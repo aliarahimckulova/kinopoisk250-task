{
  "nbformat": 4,
  "nbformat_minor": 0,
  "metadata": {
    "colab": {
      "provenance": [],
      "collapsed_sections": []
    },
    "kernelspec": {
      "name": "python3",
      "display_name": "Python 3"
    },
    "language_info": {
      "name": "python"
    }
  },
  "cells": [
    {
      "cell_type": "markdown",
      "source": [
        "***Rakhimkulova Aliia***"
      ],
      "metadata": {
        "id": "Gp6qzY5MKpll"
      }
    },
    {
      "cell_type": "code",
      "execution_count": 1,
      "metadata": {
        "id": "xwcUX3gNKKuD",
        "colab": {
          "base_uri": "https://localhost:8080/"
        },
        "outputId": "710acaef-aa36-4ac3-f7a6-d7b5eaba73e0"
      },
      "outputs": [
        {
          "output_type": "stream",
          "name": "stdout",
          "text": [
            "Looking in indexes: https://pypi.org/simple, https://us-python.pkg.dev/colab-wheels/public/simple/\n",
            "Requirement already satisfied: requests in /usr/local/lib/python3.7/dist-packages (2.23.0)\n",
            "Requirement already satisfied: urllib3!=1.25.0,!=1.25.1,<1.26,>=1.21.1 in /usr/local/lib/python3.7/dist-packages (from requests) (1.24.3)\n",
            "Requirement already satisfied: idna<3,>=2.5 in /usr/local/lib/python3.7/dist-packages (from requests) (2.10)\n",
            "Requirement already satisfied: certifi>=2017.4.17 in /usr/local/lib/python3.7/dist-packages (from requests) (2022.6.15)\n",
            "Requirement already satisfied: chardet<4,>=3.0.2 in /usr/local/lib/python3.7/dist-packages (from requests) (3.0.4)\n"
          ]
        }
      ],
      "source": [
        "!pip install requests"
      ]
    },
    {
      "cell_type": "code",
      "source": [
        "import requests"
      ],
      "metadata": {
        "id": "gmPSRDUTKdWO"
      },
      "execution_count": 2,
      "outputs": []
    },
    {
      "cell_type": "markdown",
      "source": [
        "check our pages in kinopoisk and show all of them\n"
      ],
      "metadata": {
        "id": "IpD_JOb5hdhm"
      }
    },
    {
      "cell_type": "code",
      "source": [
        "import time\n",
        "page = 1\n",
        "urls = []\n",
        "while page != 6:\n",
        "      url = f\"https://www.kinopoisk.ru/lists/movies/top250/?page={page}\"\n",
        "      urls.append(url)\n",
        "      time.sleep(1)\n",
        "      page = page + 1"
      ],
      "metadata": {
        "id": "8J9P8Gm2hcQo"
      },
      "execution_count": 66,
      "outputs": []
    },
    {
      "cell_type": "code",
      "source": [
        "urls"
      ],
      "metadata": {
        "colab": {
          "base_uri": "https://localhost:8080/"
        },
        "id": "yZWAiPa8h3Wr",
        "outputId": "bfd027b2-8c50-49ac-b824-6052c73f144f"
      },
      "execution_count": 67,
      "outputs": [
        {
          "output_type": "execute_result",
          "data": {
            "text/plain": [
              "['https://www.kinopoisk.ru/lists/movies/top250/?page=1',\n",
              " 'https://www.kinopoisk.ru/lists/movies/top250/?page=2',\n",
              " 'https://www.kinopoisk.ru/lists/movies/top250/?page=3',\n",
              " 'https://www.kinopoisk.ru/lists/movies/top250/?page=4',\n",
              " 'https://www.kinopoisk.ru/lists/movies/top250/?page=5']"
            ]
          },
          "metadata": {},
          "execution_count": 67
        }
      ]
    },
    {
      "cell_type": "markdown",
      "source": [
        "Let's read data"
      ],
      "metadata": {
        "id": "mGYx5ZwE3t0h"
      }
    },
    {
      "cell_type": "code",
      "source": [
        "import pandas as pd"
      ],
      "metadata": {
        "id": "sH1gP-eF32ry"
      },
      "execution_count": 3,
      "outputs": []
    },
    {
      "cell_type": "code",
      "source": [
        "df=pd.read_csv('/content/kinopoisk rating.csv', sep=';', encoding = 'cp1251')\n",
        "df.head(5)"
      ],
      "metadata": {
        "id": "Wgi7dCHzeL0I",
        "colab": {
          "base_uri": "https://localhost:8080/",
          "height": 206
        },
        "outputId": "c53dcd2d-0a80-496a-ea54-d1702a7ee04e"
      },
      "execution_count": 14,
      "outputs": [
        {
          "output_type": "execute_result",
          "data": {
            "text/plain": [
              "   num                             name_rus  rating_new               origin  \\\n",
              "0    1                         Зеленая миля         9.1                  США   \n",
              "1    2                    Побег из Шоушенка         9.1                  США   \n",
              "2    3  Властелин колец: Возвращение короля         8.6  Новая Зеландия/ США   \n",
              "3    4        Властелин колец: Две крепости         8.6  Новая Зеландия/ США   \n",
              "4    5     Властелин колец: Братство Кольца         8.6  Новая Зеландия/ США   \n",
              "\n",
              "                  genre  rating_old  qty_views  \n",
              "0        фэнтези/ драма         8.9     692418  \n",
              "1                 драма         8.9     784326  \n",
              "2  фэнтези/ приключения         8.8     481829  \n",
              "3  фэнтези/ приключения         8.8     467607  \n",
              "4  фэнтези/ приключения         8.8     516856  "
            ],
            "text/html": [
              "\n",
              "  <div id=\"df-44f6c076-b97f-4be9-bb8f-6da911920fdf\">\n",
              "    <div class=\"colab-df-container\">\n",
              "      <div>\n",
              "<style scoped>\n",
              "    .dataframe tbody tr th:only-of-type {\n",
              "        vertical-align: middle;\n",
              "    }\n",
              "\n",
              "    .dataframe tbody tr th {\n",
              "        vertical-align: top;\n",
              "    }\n",
              "\n",
              "    .dataframe thead th {\n",
              "        text-align: right;\n",
              "    }\n",
              "</style>\n",
              "<table border=\"1\" class=\"dataframe\">\n",
              "  <thead>\n",
              "    <tr style=\"text-align: right;\">\n",
              "      <th></th>\n",
              "      <th>num</th>\n",
              "      <th>name_rus</th>\n",
              "      <th>rating_new</th>\n",
              "      <th>origin</th>\n",
              "      <th>genre</th>\n",
              "      <th>rating_old</th>\n",
              "      <th>qty_views</th>\n",
              "    </tr>\n",
              "  </thead>\n",
              "  <tbody>\n",
              "    <tr>\n",
              "      <th>0</th>\n",
              "      <td>1</td>\n",
              "      <td>Зеленая миля</td>\n",
              "      <td>9.1</td>\n",
              "      <td>США</td>\n",
              "      <td>фэнтези/ драма</td>\n",
              "      <td>8.9</td>\n",
              "      <td>692418</td>\n",
              "    </tr>\n",
              "    <tr>\n",
              "      <th>1</th>\n",
              "      <td>2</td>\n",
              "      <td>Побег из Шоушенка</td>\n",
              "      <td>9.1</td>\n",
              "      <td>США</td>\n",
              "      <td>драма</td>\n",
              "      <td>8.9</td>\n",
              "      <td>784326</td>\n",
              "    </tr>\n",
              "    <tr>\n",
              "      <th>2</th>\n",
              "      <td>3</td>\n",
              "      <td>Властелин колец: Возвращение короля</td>\n",
              "      <td>8.6</td>\n",
              "      <td>Новая Зеландия/ США</td>\n",
              "      <td>фэнтези/ приключения</td>\n",
              "      <td>8.8</td>\n",
              "      <td>481829</td>\n",
              "    </tr>\n",
              "    <tr>\n",
              "      <th>3</th>\n",
              "      <td>4</td>\n",
              "      <td>Властелин колец: Две крепости</td>\n",
              "      <td>8.6</td>\n",
              "      <td>Новая Зеландия/ США</td>\n",
              "      <td>фэнтези/ приключения</td>\n",
              "      <td>8.8</td>\n",
              "      <td>467607</td>\n",
              "    </tr>\n",
              "    <tr>\n",
              "      <th>4</th>\n",
              "      <td>5</td>\n",
              "      <td>Властелин колец: Братство Кольца</td>\n",
              "      <td>8.6</td>\n",
              "      <td>Новая Зеландия/ США</td>\n",
              "      <td>фэнтези/ приключения</td>\n",
              "      <td>8.8</td>\n",
              "      <td>516856</td>\n",
              "    </tr>\n",
              "  </tbody>\n",
              "</table>\n",
              "</div>\n",
              "      <button class=\"colab-df-convert\" onclick=\"convertToInteractive('df-44f6c076-b97f-4be9-bb8f-6da911920fdf')\"\n",
              "              title=\"Convert this dataframe to an interactive table.\"\n",
              "              style=\"display:none;\">\n",
              "        \n",
              "  <svg xmlns=\"http://www.w3.org/2000/svg\" height=\"24px\"viewBox=\"0 0 24 24\"\n",
              "       width=\"24px\">\n",
              "    <path d=\"M0 0h24v24H0V0z\" fill=\"none\"/>\n",
              "    <path d=\"M18.56 5.44l.94 2.06.94-2.06 2.06-.94-2.06-.94-.94-2.06-.94 2.06-2.06.94zm-11 1L8.5 8.5l.94-2.06 2.06-.94-2.06-.94L8.5 2.5l-.94 2.06-2.06.94zm10 10l.94 2.06.94-2.06 2.06-.94-2.06-.94-.94-2.06-.94 2.06-2.06.94z\"/><path d=\"M17.41 7.96l-1.37-1.37c-.4-.4-.92-.59-1.43-.59-.52 0-1.04.2-1.43.59L10.3 9.45l-7.72 7.72c-.78.78-.78 2.05 0 2.83L4 21.41c.39.39.9.59 1.41.59.51 0 1.02-.2 1.41-.59l7.78-7.78 2.81-2.81c.8-.78.8-2.07 0-2.86zM5.41 20L4 18.59l7.72-7.72 1.47 1.35L5.41 20z\"/>\n",
              "  </svg>\n",
              "      </button>\n",
              "      \n",
              "  <style>\n",
              "    .colab-df-container {\n",
              "      display:flex;\n",
              "      flex-wrap:wrap;\n",
              "      gap: 12px;\n",
              "    }\n",
              "\n",
              "    .colab-df-convert {\n",
              "      background-color: #E8F0FE;\n",
              "      border: none;\n",
              "      border-radius: 50%;\n",
              "      cursor: pointer;\n",
              "      display: none;\n",
              "      fill: #1967D2;\n",
              "      height: 32px;\n",
              "      padding: 0 0 0 0;\n",
              "      width: 32px;\n",
              "    }\n",
              "\n",
              "    .colab-df-convert:hover {\n",
              "      background-color: #E2EBFA;\n",
              "      box-shadow: 0px 1px 2px rgba(60, 64, 67, 0.3), 0px 1px 3px 1px rgba(60, 64, 67, 0.15);\n",
              "      fill: #174EA6;\n",
              "    }\n",
              "\n",
              "    [theme=dark] .colab-df-convert {\n",
              "      background-color: #3B4455;\n",
              "      fill: #D2E3FC;\n",
              "    }\n",
              "\n",
              "    [theme=dark] .colab-df-convert:hover {\n",
              "      background-color: #434B5C;\n",
              "      box-shadow: 0px 1px 3px 1px rgba(0, 0, 0, 0.15);\n",
              "      filter: drop-shadow(0px 1px 2px rgba(0, 0, 0, 0.3));\n",
              "      fill: #FFFFFF;\n",
              "    }\n",
              "  </style>\n",
              "\n",
              "      <script>\n",
              "        const buttonEl =\n",
              "          document.querySelector('#df-44f6c076-b97f-4be9-bb8f-6da911920fdf button.colab-df-convert');\n",
              "        buttonEl.style.display =\n",
              "          google.colab.kernel.accessAllowed ? 'block' : 'none';\n",
              "\n",
              "        async function convertToInteractive(key) {\n",
              "          const element = document.querySelector('#df-44f6c076-b97f-4be9-bb8f-6da911920fdf');\n",
              "          const dataTable =\n",
              "            await google.colab.kernel.invokeFunction('convertToInteractive',\n",
              "                                                     [key], {});\n",
              "          if (!dataTable) return;\n",
              "\n",
              "          const docLinkHtml = 'Like what you see? Visit the ' +\n",
              "            '<a target=\"_blank\" href=https://colab.research.google.com/notebooks/data_table.ipynb>data table notebook</a>'\n",
              "            + ' to learn more about interactive tables.';\n",
              "          element.innerHTML = '';\n",
              "          dataTable['output_type'] = 'display_data';\n",
              "          await google.colab.output.renderOutput(dataTable, element);\n",
              "          const docLink = document.createElement('div');\n",
              "          docLink.innerHTML = docLinkHtml;\n",
              "          element.appendChild(docLink);\n",
              "        }\n",
              "      </script>\n",
              "    </div>\n",
              "  </div>\n",
              "  "
            ]
          },
          "metadata": {},
          "execution_count": 14
        }
      ]
    },
    {
      "cell_type": "code",
      "source": [
        "df.shape"
      ],
      "metadata": {
        "colab": {
          "base_uri": "https://localhost:8080/"
        },
        "id": "bVM4kXKz4SoB",
        "outputId": "dfaee322-c4e1-4e44-bad7-b6bad0e8e3e1"
      },
      "execution_count": 5,
      "outputs": [
        {
          "output_type": "execute_result",
          "data": {
            "text/plain": [
              "(250, 7)"
            ]
          },
          "metadata": {},
          "execution_count": 5
        }
      ]
    },
    {
      "cell_type": "code",
      "source": [
        "from scipy.stats import mannwhitneyu\n"
      ],
      "metadata": {
        "id": "vN9kYpwN48BO"
      },
      "execution_count": 6,
      "outputs": []
    },
    {
      "cell_type": "code",
      "source": [
        "U1, p = mannwhitneyu(df.rating_old, df.rating_new,alternative='two-sided')\n",
        "print('Statistics=%.2f, p=%.2f' % (U1, p))\n",
        "# Level of significance\n",
        "alpha = 0.05\n",
        "# conclusion\n",
        "if p < alpha:\n",
        "    print('Reject Null Hypothesis (Significant difference between two samples)')\n",
        "else:\n",
        "    print('Do not Reject Null Hypothesis (No significant difference between two samples)')"
      ],
      "metadata": {
        "colab": {
          "base_uri": "https://localhost:8080/"
        },
        "id": "LdDqKohd4l0Z",
        "outputId": "999a3afa-a377-47ba-e8eb-2fc96d325420"
      },
      "execution_count": 26,
      "outputs": [
        {
          "output_type": "stream",
          "name": "stdout",
          "text": [
            "Statistics=31324.50, p=0.96\n",
            "Do not Reject Null Hypothesis (No significant difference between two samples)\n"
          ]
        }
      ]
    },
    {
      "cell_type": "markdown",
      "source": [
        "We can see that p>.05, then we cannot reject our null hypothesis about difference of ratings\n"
      ],
      "metadata": {
        "id": "Jaw7zFNp5sfJ"
      }
    },
    {
      "cell_type": "markdown",
      "source": [
        "Let's compare genre\n"
      ],
      "metadata": {
        "id": "BJtwPRYz6OH2"
      }
    },
    {
      "cell_type": "code",
      "source": [
        "U1, p = mannwhitneyu(x = df.loc[df.genre == 'драма', 'rating_new'], y = df.loc[df.genre == 'драма', 'rating_old']\n",
        "                     , alternative = 'two-sided')\n",
        "print('Statistics=%.2f, p=%.2f' % (U1, p))\n",
        "# Level of significance\n",
        "alpha = 0.05\n",
        "# conclusion\n",
        "if p < alpha:\n",
        "    print('Reject Null Hypothesis (Significant difference between two samples)')\n",
        "else:\n",
        "    print('Do not Reject Null Hypothesis (No significant difference between two samples)')"
      ],
      "metadata": {
        "colab": {
          "base_uri": "https://localhost:8080/"
        },
        "id": "yzjIAVVt5rq_",
        "outputId": "4ecff228-118f-4e84-db5d-dd0461f99ef0"
      },
      "execution_count": 27,
      "outputs": [
        {
          "output_type": "stream",
          "name": "stdout",
          "text": [
            "Statistics=104.00, p=0.06\n",
            "Do not Reject Null Hypothesis (No significant difference between two samples)\n"
          ]
        }
      ]
    },
    {
      "cell_type": "markdown",
      "source": [
        "During genre check, we can see also that we cannot reject null hypothesis in the case of 'Drama', but we also can see that it's more lower value of p than in just rating. if we will increase p value, we can be accept alternative hypothesis\n",
        "\n",
        "\n",
        "\n"
      ],
      "metadata": {
        "id": "wf-6Xnsk6gs1"
      }
    },
    {
      "cell_type": "code",
      "source": [
        "U1, p = mannwhitneyu(x = df.loc[df.origin == 'Италия', 'rating_new'], y = df.loc[df.origin == 'Италия', 'rating_old']\n",
        "                     , alternative = 'two-sided')\n",
        "print('Statistics=%.2f, p=%.2f' % (U1, p))\n",
        "# Level of significance\n",
        "alpha = 0.05\n",
        "# conclusion\n",
        "if p < alpha:\n",
        "    print('Reject Null Hypothesis (Significant difference between two samples)')\n",
        "else:\n",
        "    print('Do not Reject Null Hypothesis (No significant difference between two samples)')"
      ],
      "metadata": {
        "colab": {
          "base_uri": "https://localhost:8080/"
        },
        "id": "E1_JKxs45F_E",
        "outputId": "65f5e18d-aad0-4e79-8651-e78565c91fee"
      },
      "execution_count": 64,
      "outputs": [
        {
          "output_type": "stream",
          "name": "stdout",
          "text": [
            "Statistics=11.50, p=0.37\n",
            "Do not Reject Null Hypothesis (No significant difference between two samples)\n"
          ]
        }
      ]
    },
    {
      "cell_type": "markdown",
      "source": [
        "During genre check, we can see also that we cannot reject null hypothesis with country in the case of Great Britai"
      ],
      "metadata": {
        "id": "rbM1_XK2KN1f"
      }
    },
    {
      "cell_type": "code",
      "source": [
        "df.groupby('origin').apply(lambda df: mannwhitneyu(df.rating_old, df.rating_new,alternative='two-sided'))"
      ],
      "metadata": {
        "colab": {
          "base_uri": "https://localhost:8080/"
        },
        "id": "BznIRMU0AL_A",
        "outputId": "fd5b2a83-4001-4019-8a31-4861c109c2ef"
      },
      "execution_count": 51,
      "outputs": [
        {
          "output_type": "execute_result",
          "data": {
            "text/plain": [
              "origin\n",
              "Австралия/ США                  (3.5, 0.4142161782425252)\n",
              "Беларусь/ Россия                               (0.5, 1.0)\n",
              "Бразилия/ Франция                              (0.5, 1.0)\n",
              "Великобритания                                 (0.5, 1.0)\n",
              "Великобритания/ Германия                       (0.0, 1.0)\n",
              "Великобритания/ Канада                         (0.5, 1.0)\n",
              "Великобритания/ США           (154.5, 0.7380835522977606)\n",
              "Великобритания/ Франция                        (2.0, 1.0)\n",
              "Великобритания/ Япония                         (1.0, 1.0)\n",
              "Германия                                       (4.0, 1.0)\n",
              "Германия/ Италия                               (0.5, 1.0)\n",
              "Гонконг/ Китай                                 (1.0, 1.0)\n",
              "Гонконг/ Югославия                             (1.0, 1.0)\n",
              "Ирландия/ Дания                                (0.5, 1.0)\n",
              "Ирландия/ Люксембург                           (0.0, 1.0)\n",
              "Испания/ Великобритания                        (0.5, 1.0)\n",
              "Италия                          (4.5, 0.3718513694279071)\n",
              "Италия/ Испания                                (0.0, 1.0)\n",
              "Канада/ США                                    (0.5, 1.0)\n",
              "Корея Южная                                    (1.5, 1.0)\n",
              "Ливан/ США                                     (0.0, 1.0)\n",
              "Новая Зеландия/ США           (26.0, 0.21983094556933913)\n",
              "Россия                                         (8.0, 1.0)\n",
              "Россия/ США                                    (1.0, 1.0)\n",
              "СССР                        (292.0, 0.007358118927667391)\n",
              "США                          (6466.0, 0.3718029670954922)\n",
              "США/ Австралия                                 (1.0, 1.0)\n",
              "США/ Великобритания            (47.5, 0.5606860665922506)\n",
              "США/ Германия                  (58.0, 0.5585196618095095)\n",
              "США/ Италия                                    (0.0, 1.0)\n",
              "США/ Канада                    (15.0, 0.6704021525148367)\n",
              "США/ Китай                                     (0.0, 1.0)\n",
              "США/ Мальта                                    (1.0, 1.0)\n",
              "США/ Мексика                                   (1.5, 1.0)\n",
              "США/ Новая Зеландия                            (0.0, 1.0)\n",
              "США/ Франция                                   (0.5, 1.0)\n",
              "США/ Япония                    (4.0, 0.22067136191984682)\n",
              "Франция                                        (5.0, 1.0)\n",
              "Франция/ Бельгия                               (1.0, 1.0)\n",
              "Франция/ Великобритания                        (0.5, 1.0)\n",
              "Франция/ Канада                                (1.0, 1.0)\n",
              "Франция/ Польша                                (0.0, 1.0)\n",
              "Франция/ США                    (1.0, 0.6666666666666666)\n",
              "Швеция                                         (1.0, 1.0)\n",
              "Япония                         (34.5, 0.6210143706612847)\n",
              "dtype: object"
            ]
          },
          "metadata": {},
          "execution_count": 51
        }
      ]
    },
    {
      "cell_type": "markdown",
      "source": [
        "We can see difference only in USSR rating"
      ],
      "metadata": {
        "id": "B-pJ3HkXCzUD"
      }
    },
    {
      "cell_type": "code",
      "source": [
        "df1 = df.groupby('genre').apply(lambda df: mannwhitneyu(df.rating_old, df.rating_new,alternative='two-sided'))"
      ],
      "metadata": {
        "id": "UkOE3rGHDXdq"
      },
      "execution_count": 53,
      "outputs": []
    },
    {
      "cell_type": "code",
      "source": [
        "pd.set_option('display.max_rows', None)\n",
        "dataframe = pd.DataFrame(df1)\n",
        " \n",
        "# printing data frame\n",
        "print(dataframe)"
      ],
      "metadata": {
        "colab": {
          "base_uri": "https://localhost:8080/"
        },
        "id": "MfBqXMIeHvFk",
        "outputId": "7eed2a5a-cdef-4965-e40c-989e385ca765"
      },
      "execution_count": 54,
      "outputs": [
        {
          "output_type": "stream",
          "name": "stdout",
          "text": [
            "                                                    0\n",
            "genre                                                \n",
            "аниме/ мультфильм          (34.5, 0.6210143706612847)\n",
            "биография/ драма                           (0.5, 1.0)\n",
            "биография/ комедия                         (0.0, 1.0)\n",
            "биография/ мелодрама                       (1.0, 1.0)\n",
            "биография/ музыка                          (0.5, 1.0)\n",
            "биография/ спорт            (3.0, 0.6170750774519738)\n",
            "боевик/ биография                          (1.0, 1.0)\n",
            "боевик/ драма              (13.0, 0.1605806049379932)\n",
            "боевик/ история                            (2.0, 1.0)\n",
            "боевик/ комедия             (6.5, 0.5065551690490403)\n",
            "боевик/ криминал                           (1.0, 1.0)\n",
            "боевик/ приключения                        (0.0, 1.0)\n",
            "боевик/ триллер                            (8.5, 1.0)\n",
            "вестерн                                    (0.0, 1.0)\n",
            "вестерн/ боевик                            (1.0, 1.0)\n",
            "вестерн/ криминал                          (1.0, 1.0)\n",
            "военный/ боевик                            (0.5, 1.0)\n",
            "военный/ драма                             (0.0, 1.0)\n",
            "военный/ комедия                           (0.0, 1.0)\n",
            "военный/ мелодрама                         (0.0, 1.0)\n",
            "детектив/ комедия                          (1.0, 1.0)\n",
            "детектив/ криминал                         (0.0, 1.0)\n",
            "драма                     (40.0, 0.06026610146100329)\n",
            "драма/ биография           (64.5, 0.8158610005455142)\n",
            "драма/ военный            (25.5, 0.19242012928419117)\n",
            "драма/ детектив                            (0.0, 1.0)\n",
            "драма/ комедия             (13.0, 0.4648578492975529)\n",
            "драма/ криминал           (49.0, 0.46044557057003355)\n",
            "драма/ мелодрама                          (84.5, 1.0)\n",
            "драма/ музыка                              (0.5, 1.0)\n",
            "драма/ семейный                            (0.0, 1.0)\n",
            "драма/ спорт                               (1.0, 1.0)\n",
            "драма/ фэнтези                             (0.5, 1.0)\n",
            "история/ биография                         (0.0, 1.0)\n",
            "история/ драма                             (0.5, 1.0)\n",
            "комедия                                    (2.0, 1.0)\n",
            "комедия/ драма                             (0.0, 1.0)\n",
            "комедия/ криминал                          (0.0, 1.0)\n",
            "комедия/ мелодрама                         (0.0, 1.0)\n",
            "комедия/ приключения       (11.5, 0.9152657584373532)\n",
            "комедия/ семейный                          (5.0, 1.0)\n",
            "криминал/ биография                        (0.0, 1.0)\n",
            "криминал/ боевик                           (1.0, 1.0)\n",
            "криминал/ детектив          (0.0, 0.3333333333333333)\n",
            "криминал/ драма                            (0.5, 1.0)\n",
            "криминал/ комедия           (0.0, 0.1939308522824107)\n",
            "мелодрама/ история         (0.0, 0.22067136191984682)\n",
            "мелодрама/ комедия        (10.5, 0.07599656164176066)\n",
            "мелодрама/ криминал                        (0.0, 1.0)\n",
            "мелодрама/ фэнтези                         (0.0, 1.0)\n",
            "мультфильм/ драма                          (8.5, 1.0)\n",
            "мультфильм/ комедия          (6.0, 0.653095114932182)\n",
            "мультфильм/ мюзикл         (35.5, 0.7489352613307532)\n",
            "мультфильм/ приключения     (4.0, 0.3333333333333333)\n",
            "мультфильм/ семейный                       (2.5, 1.0)\n",
            "мультфильм/ фантастика     (16.5, 0.4476990724652935)\n",
            "мультфильм/ фэнтези      (107.0, 0.25230756055185943)\n",
            "приключения/ история                       (1.0, 1.0)\n",
            "приключения/ семейный                      (0.0, 1.0)\n",
            "спорт/ драма                               (0.0, 1.0)\n",
            "триллер/ детектив                          (2.0, 1.0)\n",
            "триллер/ драма             (62.0, 0.9463588260747767)\n",
            "триллер/ криминал                          (0.0, 1.0)\n",
            "триллер/ фэнтези                           (0.0, 1.0)\n",
            "ужасы/ фантастика           (1.0, 0.6170750774519738)\n",
            "ужасы/ фэнтези                             (1.0, 1.0)\n",
            "фантастика/ боевик        (239.5, 0.0787049093768963)\n",
            "фантастика/ драма           (9.0, 0.8809333191175965)\n",
            "фантастика/ комедия          (3.0, 0.653095114932182)\n",
            "фантастика/ приключения                    (2.5, 1.0)\n",
            "фантастика/ триллер                        (4.0, 1.0)\n",
            "фантастика/ фэнтези        (7.5, 0.18763232999488433)\n",
            "фэнтези/ боевик             (6.0, 0.6428348264908044)\n",
            "фэнтези/ драма                             (8.0, 1.0)\n",
            "фэнтези/ мелодрама                         (2.5, 1.0)\n",
            "фэнтези/ приключения      (54.5, 0.22738526970373274)\n"
          ]
        }
      ]
    },
    {
      "cell_type": "markdown",
      "source": [
        "Cannot reject null hypothesis\n",
        "\n"
      ],
      "metadata": {
        "id": "pK43dZxaKdZ9"
      }
    },
    {
      "cell_type": "code",
      "source": [
        "!pip install bstrap\n",
        "from bstrap import bootstrap\n",
        "import numpy as np"
      ],
      "metadata": {
        "colab": {
          "base_uri": "https://localhost:8080/"
        },
        "id": "H-iyUqjS7pDv",
        "outputId": "63ab388c-5aee-4447-b43e-e71c38cb2f02"
      },
      "execution_count": 21,
      "outputs": [
        {
          "output_type": "stream",
          "name": "stdout",
          "text": [
            "Looking in indexes: https://pypi.org/simple, https://us-python.pkg.dev/colab-wheels/public/simple/\n",
            "Requirement already satisfied: bstrap in /usr/local/lib/python3.7/dist-packages (0.0.9)\n"
          ]
        }
      ]
    },
    {
      "cell_type": "code",
      "source": [
        "old, new, p = bootstrap(np.mean, df.rating_old, df.rating_new)\n",
        "old, new, p"
      ],
      "metadata": {
        "colab": {
          "base_uri": "https://localhost:8080/"
        },
        "id": "EuZX7i-T8nyD",
        "outputId": "3fa4da57-1829-4448-ea45-8d3b4c39d70a"
      },
      "execution_count": 23,
      "outputs": [
        {
          "output_type": "execute_result",
          "data": {
            "text/plain": [
              "({'avg_metric': 8.179600412000001,\n",
              "  'metric_ci_lb': 8.159999999999998,\n",
              "  'metric_ci_ub': 8.2},\n",
              " {'avg_metric': 8.184241571999998,\n",
              "  'metric_ci_lb': 8.156,\n",
              "  'metric_ci_ub': 8.2128},\n",
              " 0.81312)"
            ]
          },
          "metadata": {},
          "execution_count": 23
        }
      ]
    },
    {
      "cell_type": "code",
      "source": [
        "old, new, p = bootstrap(np.mean, df.loc[df.genre == 'драма', 'rating_old'], \n",
        "                                          df.loc[df.genre == 'драма', 'rating_new'])\n",
        "old, new, p"
      ],
      "metadata": {
        "colab": {
          "base_uri": "https://localhost:8080/"
        },
        "id": "ztEukCXW96z_",
        "outputId": "2fefab20-51a8-4179-ad46-2eb192756267"
      },
      "execution_count": 24,
      "outputs": [
        {
          "output_type": "execute_result",
          "data": {
            "text/plain": [
              "({'avg_metric': 8.15805225,\n",
              "  'metric_ci_lb': 8.066666666666666,\n",
              "  'metric_ci_ub': 8.283333333333335},\n",
              " {'avg_metric': 8.291822166666666,\n",
              "  'metric_ci_lb': 8.166666666666666,\n",
              "  'metric_ci_ub': 8.441666666666666},\n",
              " 0.22083)"
            ]
          },
          "metadata": {},
          "execution_count": 24
        }
      ]
    },
    {
      "cell_type": "code",
      "source": [
        "old, new, p = bootstrap(np.mean, df.loc[df.origin == 'Италия', 'rating_old'], \n",
        "                                          df.loc[df.origin == 'Италия', 'rating_new'])\n",
        "old, new, p"
      ],
      "metadata": {
        "colab": {
          "base_uri": "https://localhost:8080/"
        },
        "id": "SPYyW7cb-2of",
        "outputId": "3eac36c3-ac25-4f0e-f07f-38cfbac6cccc"
      },
      "execution_count": 65,
      "outputs": [
        {
          "output_type": "execute_result",
          "data": {
            "text/plain": [
              "({'avg_metric': 8.124742,\n",
              "  'metric_ci_lb': 8.0,\n",
              "  'metric_ci_ub': 8.225000000000001},\n",
              " {'avg_metric': 8.299524, 'metric_ci_lb': 8.1, 'metric_ci_ub': 8.5},\n",
              " 0.19565)"
            ]
          },
          "metadata": {},
          "execution_count": 65
        }
      ]
    },
    {
      "cell_type": "markdown",
      "source": [
        "We cannot reject null hypothesis, results consistient with Mann-Whitney test\n"
      ],
      "metadata": {
        "id": "qnPR0CGj_BX4"
      }
    }
  ]
}